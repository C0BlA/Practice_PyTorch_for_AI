{
 "cells": [
  {
   "cell_type": "code",
   "execution_count": 5,
   "id": "f7cb994c",
   "metadata": {},
   "outputs": [
    {
     "name": "stdout",
     "output_type": "stream",
     "text": [
      "❌ PyTorch is not installed or not available\n",
      "Error details: No module named 'torch'\n",
      "Please install PyTorch using: pip install torch\n"
     ]
    }
   ],
   "source": [
    "# Check if PyTorch is available and import it\n",
    "try:\n",
    "    import torch\n",
    "    print(\"✓ PyTorch is successfully imported!\")\n",
    "    print(f\"PyTorch version: {torch.__version__}\")\n",
    "    \n",
    "    # Check if CUDA is available\n",
    "    if torch.cuda.is_available():\n",
    "        device = torch.device(\"cuda\")\n",
    "        print(f\"✓ CUDA is available! Device count: {torch.cuda.device_count()}\")\n",
    "        print(f\"Current CUDA device: {torch.cuda.get_device_name(0)}\")\n",
    "    else:\n",
    "        print(\"CUDA is not available. Using CPU.\")\n",
    "    \n",
    "    # Create a simple tensor to test basic functionality\n",
    "    test_tensor = torch.tensor([1, 2, 3, 4, 5], device=device)\n",
    "    print(f\"✓ Test tensor created: {test_tensor}\")\n",
    "    print(f\"Tensor shape: {test_tensor.shape}\")\n",
    "    print(f\"Tensor device: {test_tensor.device}\")\n",
    "    \n",
    "    # Basic tensor operation\n",
    "    squared_tensor = test_tensor ** 2\n",
    "    print(f\"✓ Basic operation test (squaring): {squared_tensor}\")\n",
    "    \n",
    "    print(\"\\n🎉 PyTorch is working correctly!\")\n",
    "    \n",
    "except ImportError as e:\n",
    "    print(\"❌ PyTorch is not installed or not available\")\n",
    "    print(f\"Error details: {e}\")\n",
    "    print(\"Please install PyTorch using: pip install torch\")\n",
    "    \n",
    "except Exception as e:\n",
    "    print(f\"❌ An error occurred while testing PyTorch: {e}\")"
   ]
  }
 ],
 "metadata": {
  "kernelspec": {
   "display_name": "torch",
   "language": "python",
   "name": "python3"
  },
  "language_info": {
   "codemirror_mode": {
    "name": "ipython",
    "version": 3
   },
   "file_extension": ".py",
   "mimetype": "text/x-python",
   "name": "python",
   "nbconvert_exporter": "python",
   "pygments_lexer": "ipython3",
   "version": "3.10.18"
  }
 },
 "nbformat": 4,
 "nbformat_minor": 5
}
